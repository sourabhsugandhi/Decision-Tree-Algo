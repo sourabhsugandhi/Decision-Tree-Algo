{
 "cells": [
  {
   "cell_type": "code",
   "execution_count": 19,
   "metadata": {},
   "outputs": [],
   "source": [
    "# Sample dataset\n",
    "# Format : each row is an example\n",
    "# The last column is label\n",
    "# The first two columns are features.\n",
    "# If you want you can add more features and examples.\n",
    "# Interesting NOte: 2nd and 5th examples have the same features, but different labels\n",
    "# Lets see hot tree handle this case."
   ]
  },
  {
   "cell_type": "code",
   "execution_count": 20,
   "metadata": {},
   "outputs": [
    {
     "data": {
      "text/plain": [
       "[['Green', 3, 'Mango'],\n",
       " ['Yellow', 3, 'Mango'],\n",
       " ['Red', 1, 'Grape'],\n",
       " ['Red', 1, 'Grape'],\n",
       " ['Yellow', 3, 'Lemon']]"
      ]
     },
     "execution_count": 20,
     "metadata": {},
     "output_type": "execute_result"
    }
   ],
   "source": [
    "training_data = [\n",
    "    ['Green',3,'Mango'],\n",
    "    ['Yellow',3,'Mango'],\n",
    "    ['Red',1,'Grape'],\n",
    "    ['Red',1,'Grape'],\n",
    "    ['Yellow',3,'Lemon']\n",
    "]\n",
    "\n",
    "training_data"
   ]
  },
  {
   "cell_type": "code",
   "execution_count": 21,
   "metadata": {},
   "outputs": [],
   "source": [
    "#Adding Column labels.\n",
    "# These are used only to print the tree.\n",
    "header = [\"color\",\"diameter\",\"label\"]"
   ]
  },
  {
   "cell_type": "code",
   "execution_count": 22,
   "metadata": {},
   "outputs": [],
   "source": [
    "# To find the unique values for a column in a dataset\n",
    "def unique_vals(rows,col):\n",
    "    return set([row[col] for row in rows])"
   ]
  },
  {
   "cell_type": "code",
   "execution_count": 23,
   "metadata": {},
   "outputs": [],
   "source": [
    "#Count the number of each type of example in a dataset\n",
    "\n",
    "def class_counts(rows):\n",
    "    counts = {} # a directory of label --> count.\n",
    "    for row in rows:\n",
    "        label = row[-1] #in our dataset format, the label is in the last column\n",
    "        if label not in counts:\n",
    "            counts[label] = 0\n",
    "        counts[label] += 1\n",
    "    return counts"
   ]
  },
  {
   "cell_type": "code",
   "execution_count": 24,
   "metadata": {},
   "outputs": [],
   "source": [
    "# Test us a value is numeric\n",
    "\n",
    "def is_numeric(value):\n",
    "    return isinstance(value,int) or isinstance(value,float) \n",
    "    #The isinstance() function returns True if the specified object is of the specified type"
   ]
  },
  {
   "cell_type": "code",
   "execution_count": 25,
   "metadata": {},
   "outputs": [],
   "source": [
    "#Question is used to partition a dataset.\n",
    "\n",
    "class Question:\n",
    "    '''This class just records a 'column number'(e.g: 0 for color) and a 'column value' (e.g : Green).\n",
    "        The 'match' method is used to compare the feature value in an example to the feature value stored in the \n",
    "        question.'''\n",
    "    \n",
    "    def __init__(self,column,value):\n",
    "        self.column = column\n",
    "        self.value = value\n",
    "    \n",
    "    def match(self,example):\n",
    "        #compare the feature value in an example to the feature value in this question.\n",
    "        val = example[self.column]\n",
    "        if is_numeric(val):\n",
    "            return val >= self.value\n",
    "        else:\n",
    "            return val == self.value\n",
    "    \n",
    "    def __repr__(self):\n",
    "        #This is just a helper methos to print the question in a readable format.\n",
    "        condition = \"==\"\n",
    "        if is_numeric(self.value):\n",
    "            condition = \">=\"\n",
    "        return \"Is %s %s %s?\" % (header[self.column], condition,str(self.value))"
   ]
  },
  {
   "cell_type": "code",
   "execution_count": 26,
   "metadata": {},
   "outputs": [],
   "source": [
    "\"\"\"Partition a dataset\n",
    "    For each row in the dataset, check if it matches the question. \n",
    "    if so add it to 'true rows', otherwise, add it to 'false rows'.\"\"\"\n",
    "\n",
    "def partition(rows,question):\n",
    "    true_rows,false_rows = [],[]\n",
    "    for row in rows:\n",
    "        if question.match(row):\n",
    "            true_rows.append(row)\n",
    "        else:\n",
    "            false_rows.append(row)\n",
    "    return true_rows, false_rows\n",
    "\n",
    "######\n",
    "#Demo:\n",
    "# Lets partition the training data based on whether rows are Red.\n",
    "#true_rows,false_rows = partition(training_data, Question(0,'Red'))\n",
    "# true_rows ----> contains all the \"Red\" rows\n",
    "# false_rows ----> contains everything else."
   ]
  },
  {
   "cell_type": "code",
   "execution_count": 27,
   "metadata": {},
   "outputs": [],
   "source": [
    "\"\"\" Calculate the GINI Impurity for a list of rows\"\"\"\n",
    "\n",
    "def gini(rows):\n",
    "    counts = class_counts(rows)\n",
    "    impurity = 1\n",
    "    for lbl in counts:\n",
    "        prob_of_lbl = counts[lbl] / float(len(rows))\n",
    "        impurity -= prob_of_lbl**2\n",
    "    return impurity"
   ]
  },
  {
   "cell_type": "code",
   "execution_count": 28,
   "metadata": {},
   "outputs": [],
   "source": [
    "\"\"\" Information Gain\"\"\"\n",
    "\n",
    "def info_gain(left,right,current_uncertainty):\n",
    "    p = float(len(left)) / (len(left) + len(right))\n",
    "    return current_uncertainty - p * gini(left) - (1-p)*gini(right)\n",
    "\n",
    "#calculate the uncertainty of our training data.\n",
    "#current_uncertainty = gini(training_data)\n",
    "\n",
    "#Example .........\n",
    "#How much info do we gain by partioning on \"Green\"?\n",
    "#true_rows, false_rows = partition(training_data, Question(0, \"Green\"))\n",
    "#info_gain(true_rows,false_rows,current_uncertainty)"
   ]
  },
  {
   "cell_type": "code",
   "execution_count": 45,
   "metadata": {},
   "outputs": [],
   "source": [
    "\"\"\" Find the best question to ask by iterating over every feature / value and calculating the info gain\"\"\"\n",
    "\n",
    "def find_best_split(rows):\n",
    "    best_gain = 0 #keep track of the best info gain\n",
    "    best_question = None #keep train of the feature / value that product it\n",
    "    current_uncertainty = gini(rows)\n",
    "    n_features = len(rows[0]) - 1 #number of columns\n",
    "    \n",
    "    for col in range(n_features): #for each feature\n",
    "        values = set([row[col] for row in rows]) #unique values in the column\n",
    "        \n",
    "        for val in values: #for each value\n",
    "            question = Question(col, val)\n",
    "            \n",
    "            #try splitting the dataset\n",
    "            true_rows, false_rows = partition(rows, question)\n",
    "            \n",
    "            #skip this split if it doesnt divide the dataset\n",
    "            if len(true_rows) == 0 or len(false_rows) == 0:\n",
    "                continue\n",
    "                \n",
    "            #calculate the information gain from this split\n",
    "            gain = info_gain(true_rows,false_rows,current_uncertainty)\n",
    "            \n",
    "            #you actually can use '>' instead of '>=' here but\n",
    "            #i wanted the tree to look a certain way for our toy dataset.\n",
    "            \n",
    "            if gain>= best_gain:\n",
    "                best_gain, best_question = gain, question\n",
    "    return best_gain, best_question"
   ]
  },
  {
   "cell_type": "code",
   "execution_count": 53,
   "metadata": {},
   "outputs": [],
   "source": [
    "\"\"\" A Leaf node classifies data\"\"\"\n",
    "#This Holds a dicionary of class (e.g : \"Mango\") --> number of times it appears in the rows from training data that reach this leaf\n",
    "\n",
    "class Leaf:\n",
    "    def __init__(self,rows):\n",
    "        self.predictions = class_counts(rows)\n",
    "\n",
    "class Decision_Node:\n",
    "    #Decision node asks a question.\n",
    "    def __init__(self,question,true_branch,false_branch):\n",
    "        self.question = question\n",
    "        self.true_branch = true_branch\n",
    "        self.false_branch = false_branch"
   ]
  },
  {
   "cell_type": "code",
   "execution_count": 54,
   "metadata": {},
   "outputs": [],
   "source": [
    "\"\"\" Build the tree\"\"\"\n",
    "\n",
    "def build_tree(rows):\n",
    "    #Try partitioning the dataset on each of the unique attributes,\n",
    "    #calculate the info gain\n",
    "    #and return the question that produces the highest gain.\n",
    "    gain,question = find_best_split(rows)\n",
    "    \n",
    "    #Base case: no furthur info gain\n",
    "    #Since we can ask no furthur question,\n",
    "    #we'll retuen a leaf\n",
    "    \n",
    "    if gain == 0:\n",
    "        return Leaf(rows)\n",
    "    \n",
    "    #if we reach here, we have found a useful feature / value to partition on.\n",
    "    true_rows, false_rows = partition(rows, question)\n",
    "    \n",
    "    # Recursively build the true branch.\n",
    "    true_branch = build_tree(true_rows)\n",
    "    \n",
    "    # Recursively build the false branch.\n",
    "    false_branch = build_tree(false_rows)\n",
    "    \n",
    "    #Return a Question node.\n",
    "    #This records the best feature / value to ask at this point,\n",
    "    #as well as the branches to follow\n",
    "    #depending on the answer\n",
    "    \n",
    "    return Decision_Node(question, true_branch, false_branch)"
   ]
  },
  {
   "cell_type": "code",
   "execution_count": 55,
   "metadata": {},
   "outputs": [],
   "source": [
    "#Worlds most elegant tree printing function\n",
    "\n",
    "def print_tree(node, spacing=\"\"):\n",
    "    if isinstance(node,Leaf):\n",
    "        print(spacing + \"Predict\", node.predictions)\n",
    "        return\n",
    "    #print the question at this node\n",
    "    print(spacing + str(node.question))\n",
    "    \n",
    "    #call this function recursively on the true branch\n",
    "    print(spacing + '--> True:')\n",
    "    print_tree(node.true_branch, spacing + \" \")\n",
    "    \n",
    "    #call this function recursively on the false branch\n",
    "    print(spacing + '--> False:')\n",
    "    print_tree(node.false_branch, spacing + \" \")"
   ]
  },
  {
   "cell_type": "code",
   "execution_count": 56,
   "metadata": {},
   "outputs": [],
   "source": [
    "def classify(row, node):\n",
    "    \n",
    "    #Base case: we've reached a leaf\n",
    "    if isinstance(node, Leaf):\n",
    "        return node.predictions\n",
    "    \n",
    "    #Decide whether to follow the true-branch or the false-branch,\n",
    "    #Compare the feature / Vlue stored in the node,\n",
    "    #to the example we're considering.\n",
    "    \n",
    "    if node.question.match(row):\n",
    "        return classify(row,node.true_branch)\n",
    "    else:\n",
    "        return classify(row,node.false_branch)"
   ]
  },
  {
   "cell_type": "code",
   "execution_count": 57,
   "metadata": {},
   "outputs": [],
   "source": [
    "def print_leaf(counts):\n",
    "    #Print the prediction at a leaf.\n",
    "    total = sum(counts.values()) * 1.0\n",
    "    probs = {}\n",
    "    for lbl in counts.keys():\n",
    "        probs[lbl] = str(int(counts[lbl] / total * 100)) + \"%\"\n",
    "    return probs"
   ]
  },
  {
   "cell_type": "code",
   "execution_count": 58,
   "metadata": {},
   "outputs": [],
   "source": [
    "testing_data = [\n",
    "    ['Green',3,'Mango'],\n",
    "    ['Yellow',4,'Mango'],\n",
    "    ['Red',2,'Grape'],\n",
    "    ['Red',1,'Grape'],\n",
    "    ['Yellow',3,'Lemon']\n",
    "]"
   ]
  },
  {
   "cell_type": "code",
   "execution_count": 59,
   "metadata": {},
   "outputs": [
    {
     "name": "stdout",
     "output_type": "stream",
     "text": [
      "<__main__.Decision_Node object at 0x06D7F950>\n",
      "Actual: Mango. Predicted: {'Mango': '100%'}\n",
      "Actual: Mango. Predicted: {'Mango': '50%', 'Lemon': '50%'}\n",
      "Actual: Grape. Predicted: {'Grape': '100%'}\n",
      "Actual: Grape. Predicted: {'Grape': '100%'}\n",
      "Actual: Lemon. Predicted: {'Mango': '50%', 'Lemon': '50%'}\n"
     ]
    }
   ],
   "source": [
    "if __name__ == '__main__':\n",
    "    my_tree = build_tree(training_data)\n",
    "    print(my_tree)\n",
    "\n",
    "for row in testing_data:\n",
    "    print(\"Actual: %s. Predicted: %s\" % (row[-1], print_leaf(classify(row, my_tree))))"
   ]
  }
 ],
 "metadata": {
  "kernelspec": {
   "display_name": "Python 3",
   "language": "python",
   "name": "python3"
  },
  "language_info": {
   "codemirror_mode": {
    "name": "ipython",
    "version": 3
   },
   "file_extension": ".py",
   "mimetype": "text/x-python",
   "name": "python",
   "nbconvert_exporter": "python",
   "pygments_lexer": "ipython3",
   "version": "3.7.6"
  }
 },
 "nbformat": 4,
 "nbformat_minor": 4
}
